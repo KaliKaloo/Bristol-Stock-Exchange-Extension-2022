{
 "cells": [
  {
   "cell_type": "markdown",
   "id": "cd73082f-0b36-4fc1-adef-3e268dfe79d5",
   "metadata": {
    "tags": []
   },
   "source": [
    "### Setup"
   ]
  },
  {
   "cell_type": "code",
   "execution_count": null,
   "id": "f06598fc-0248-437c-93c0-b4d2f445b4e1",
   "metadata": {},
   "outputs": [],
   "source": [
    "# Initial Setup:\n",
    "# Import all the libraries we need\n",
    "\n",
    "import matplotlib.pyplot as plt\n",
    "# plt.tick_params(left=False, labelleft=False) #remove ticks\n",
    "\n",
    "import numpy as np\n",
    "import csv\n",
    "import math\n",
    "import random\n",
    "from BSE_improved import Trader_PRZI\n",
    "from BSE_improved import Trader_PRZI_JADE\n",
    "from BSE_improved import Trader_PRZI_BEST1\n",
    "from BSE_improved import market_session\n",
    "import pandas as pd\n",
    "\n",
    "# reload imports\n",
    "%reload_ext autoreload\n",
    "%autoreload 2\n"
   ]
  },
  {
   "cell_type": "markdown",
   "id": "019c4c4f-2349-4ca2-8939-6a69acadeb68",
   "metadata": {},
   "source": [
    "### Static Market Session"
   ]
  },
  {
   "cell_type": "code",
   "execution_count": 61,
   "id": "900d730e-c490-404c-b169-e0fa6dffea80",
   "metadata": {},
   "outputs": [],
   "source": [
    "n_days = 10   \n",
    "n_hours = 24*n_days\n",
    "start_time = 0.0\n",
    "end_time = 60*60*n_hours\n",
    "duration = end_time - start_time\n",
    "\n",
    "supRange = (60, 140)\n",
    "demRange = (60, 140)\n",
    "supply_schedule = [{'from': start_time, 'to': end_time, 'ranges': [supRange], 'stepmode': 'fixed'}]\n",
    "demand_schedule = [{'from': start_time, 'to': end_time, 'ranges': [demRange], 'stepmode': 'fixed'}]\n",
    "\n",
    "order_interval = 5\n",
    "order_sched = {'sup': supply_schedule, 'dem': demand_schedule, 'interval': order_interval, 'timemode': 'drip-poisson'}\n",
    "\n",
    "k=8\n",
    "F=1.9"
   ]
  },
  {
   "cell_type": "markdown",
   "id": "12b63b3f-114b-4aa6-9478-fef2f6094390",
   "metadata": {},
   "source": [
    "There is a fundamental tradeoff between exploring the\n",
    "payoffs from the k alternatives, and exploiting the alternatives\n",
    "that you believe to give good payoffs"
   ]
  },
  {
   "cell_type": "markdown",
   "id": "c91d2b7c-ead5-4659-8907-e4872be63ed1",
   "metadata": {},
   "source": [
    "### de/rand/1 improved "
   ]
  },
  {
   "cell_type": "markdown",
   "id": "9e519474-5d3e-45bf-9aaa-ebb251bc3f8a",
   "metadata": {},
   "source": [
    "balanced group test"
   ]
  },
  {
   "cell_type": "code",
   "execution_count": 72,
   "id": "4840afeb-b625-42c0-806d-715b9aeece51",
   "metadata": {},
   "outputs": [
    {
     "name": "stdout",
     "output_type": "stream",
     "text": [
      "\n",
      "improved_outputs/PRDE_vs_BEST1/trail1;  \n"
     ]
    }
   ],
   "source": [
    "trial_id = 'improved_outputs/PRDE_vs_BEST1/trail1'\n",
    "\n",
    "fname = trial_id + '_balances.csv'\n",
    "tdump = open(fname, 'w')\n",
    "\n",
    "buyers_spec = [('PRDE', 15, {'k':k , 'f_value':F, 's_min': -1.0, 's_max': +1.0}),\n",
    "              ('PRDE_BEST', 15, {'k': k, 'f_value':F, 's_min': -1.0, 's_max': +1.0})] \n",
    "sellers_spec = buyers_spec\n",
    "traders_spec = {'sellers': sellers_spec, 'buyers': buyers_spec}\n",
    "\n",
    "market_session(trial_id, start_time, end_time, traders_spec,order_sched, tdump, False, True)\n",
    "tdump.flush()    \n",
    "tdump.close()  "
   ]
  },
  {
   "cell_type": "markdown",
   "id": "0220cd05-1d10-46e4-aabf-191a512eeada",
   "metadata": {},
   "source": [
    "Just PRDE_BEST by itself (RERUN)"
   ]
  },
  {
   "cell_type": "code",
   "execution_count": 54,
   "id": "ba4a7d6f-0edc-4e2e-b16b-a7c6342c72cb",
   "metadata": {},
   "outputs": [
    {
     "name": "stdout",
     "output_type": "stream",
     "text": [
      "\n",
      "improved_outputs/PRDE_vs_BEST1/alone/trail1;  \n"
     ]
    }
   ],
   "source": [
    "trial_id = 'improved_outputs/PRDE_vs_BEST1/alone/trail1'\n",
    "\n",
    "fname = trial_id + '_balances.csv'\n",
    "tdump = open(fname, 'w')\n",
    "\n",
    "buyers_spec = [('PRDE_BEST', 30, {'k': k, 'f_value':F, 's_min': -1.0, 's_max': +1.0})] \n",
    "sellers_spec = buyers_spec\n",
    "traders_spec = {'sellers': sellers_spec, 'buyers': buyers_spec}\n",
    "\n",
    "market_session(trial_id, start_time, end_time, traders_spec,order_sched, tdump, False, True)\n",
    "tdump.flush()    \n",
    "tdump.close()  "
   ]
  },
  {
   "cell_type": "markdown",
   "id": "16a35049-c8e8-4e53-ab8b-96db1c958e43",
   "metadata": {},
   "source": [
    "### JADE de/current-to-bestp/ (no archive)"
   ]
  },
  {
   "cell_type": "markdown",
   "id": "4110520c-133f-4b8c-845d-0cdb58f76fd9",
   "metadata": {},
   "source": [
    "balanced group test"
   ]
  },
  {
   "cell_type": "code",
   "execution_count": 71,
   "id": "06449eee-38ce-4b04-8e00-def05c4f7af2",
   "metadata": {},
   "outputs": [
    {
     "name": "stdout",
     "output_type": "stream",
     "text": [
      "\n",
      "improved_outputs/PRDE_vs_JADE/trail1;  \n"
     ]
    }
   ],
   "source": [
    "trial_id = 'improved_outputs/PRDE_vs_JADE/trail1'\n",
    "\n",
    "fname = trial_id + '_balances.csv'\n",
    "tdump = open(fname, 'w')\n",
    "\n",
    "buyers_spec = [('PRDE', 15, {'k':k , 'f_value':F, 's_min': -1.0, 's_max': +1.0}),\n",
    "              ('PRDE_JADE', 15, {'k': k, 'f_value':F, 's_min': -1.0, 's_max': +1.0})] \n",
    "sellers_spec = buyers_spec\n",
    "traders_spec = {'sellers': sellers_spec, 'buyers': buyers_spec}\n",
    "\n",
    "# trial_id = trail_id+'_%d' % (k)\n",
    "market_session(trial_id, start_time, end_time, traders_spec,order_sched, tdump, False, True)\n",
    "tdump.flush()    \n",
    "tdump.close()  "
   ]
  },
  {
   "cell_type": "markdown",
   "id": "0cc5a55b-5df0-4676-b2d4-1302a2eb2739",
   "metadata": {},
   "source": [
    "Just PRDE_JADE by itself (RERUN)"
   ]
  },
  {
   "cell_type": "code",
   "execution_count": null,
   "id": "9d870b35-e9d0-48cd-b108-7fa3ec677d29",
   "metadata": {},
   "outputs": [],
   "source": [
    "trial_id = 'improved_outputs/PRDE_vs_JADE/alone/trail1'\n",
    "\n",
    "fname = trial_id + '_balances.csv'\n",
    "tdump = open(fname, 'w')\n",
    "\n",
    "buyers_spec = [('PRDE_JADE', 30, {'k': k, 'f_value':F, 's_min': -1.0, 's_max': +1.0})] \n",
    "sellers_spec = buyers_spec\n",
    "traders_spec = {'sellers': sellers_spec, 'buyers': buyers_spec}\n",
    "\n",
    "# trial_id = trail_id+'_%d' % (k)\n",
    "market_session(trial_id, start_time, end_time, traders_spec,order_sched, tdump, False, True)\n",
    "tdump.flush()    \n",
    "tdump.close()  "
   ]
  },
  {
   "cell_type": "markdown",
   "id": "8cf0f0e3-f057-4af9-933c-48dc59ab6299",
   "metadata": {},
   "source": [
    "### JADE de/current-to-bestp/ (archive)"
   ]
  },
  {
   "cell_type": "code",
   "execution_count": 82,
   "id": "a3ca5c20-0e5b-4570-afb2-00c6a970bccd",
   "metadata": {},
   "outputs": [
    {
     "name": "stdout",
     "output_type": "stream",
     "text": [
      "\n",
      "improved_outputs/PRDE_vs_JADE/archive/trail1;  \n"
     ]
    }
   ],
   "source": [
    "trial_id = 'improved_outputs/PRDE_vs_JADE/archive/trail1'\n",
    "fname = trial_id + '_balances.csv'\n",
    "tdump = open(fname, 'w')\n",
    "\n",
    "buyers_spec = [('PRDE', 15, {'k':k , 'f_value':F, 's_min': -1.0, 's_max': +1.0}),\n",
    "              ('PRDE_JADE', 15, {'k': k, 'f_value':F, 's_min': -1.0, 's_max': +1.0})] \n",
    "sellers_spec = buyers_spec\n",
    "traders_spec = {'sellers': sellers_spec, 'buyers': buyers_spec}\n",
    "\n",
    "market_session(trial_id, start_time, end_time, traders_spec,order_sched, tdump, False, True)\n",
    "tdump.flush()    \n",
    "tdump.close() "
   ]
  },
  {
   "cell_type": "markdown",
   "id": "934aa0fa-504e-400b-abad-66189f9427e6",
   "metadata": {},
   "source": [
    "### Read csv files and plot"
   ]
  },
  {
   "cell_type": "markdown",
   "id": "079e3091-f96b-4279-bc03-eb6b2d586ed9",
   "metadata": {},
   "source": [
    "balanced group test PRDE vs PRDE_JADE"
   ]
  },
  {
   "cell_type": "code",
   "execution_count": null,
   "id": "e2744a70-f862-4611-856f-4f5233aadbaa",
   "metadata": {},
   "outputs": [],
   "source": [
    "# Visualising profit per trader as trader number varies\n",
    "\n",
    "trades_df = pd.read_csv('improved_outputs/PRDE_vs_JADE/trail1_balances + '.csv')\n",
    "trades_df.columns = trades_df.columns.str.strip()\n",
    "\n",
    "trades_df = trades_df.loc[:,['profit per trader', 'number of traders', 'profit per trader.1']]\n",
    "\n",
    "groups = trades_df.groupby(pd.Grouper(key='number of traders')).sum()\n",
    "\n",
    "label1 = \"PRDE\"\n",
    "width = 0.35\n",
    "\n",
    "for key in groups:\n",
    "\n",
    "    plt.bar(groups.get(key).index.to_numpy()/2 + width/2, groups.get(key).values, np.abs(width), label = label1)\n",
    "    plt.xlabel(\"Number of PRDE traders\")\n",
    "    plt.ylabel(\"Profit\")\n",
    "    width = -width\n",
    "    label1 = \"PRDE_JADE\"\n",
    "    plt.legend()\n",
    "\n",
    "plt.show()"
   ]
  },
  {
   "cell_type": "markdown",
   "id": "46348771-8487-420d-9a4f-16236bf38779",
   "metadata": {},
   "source": [
    "alone test"
   ]
  },
  {
   "cell_type": "code",
   "execution_count": 33,
   "id": "838398d4-4e09-4cff-ab6f-c85a5f80b66f",
   "metadata": {},
   "outputs": [],
   "source": [
    "CB91_Blue = '#2CBDFE'\n",
    "CB91_Green = '#24B99F'\n",
    "CB91_Pink = '#F3A0F2'\n",
    "CB91_Purple = '#9D2EC5'\n",
    "CB91_Violet = '#661D98'\n",
    "CB91_Amber = '#F5B14C'\n",
    "CB91_Brown= '#98501C'\n",
    "CB91_Red = '#D43334'\n",
    "\n",
    "def plot_csv(filename):\n",
    "    df = pd.read_csv( filename,header=None,)\n",
    "    new_df_buyer = pd.DataFrame()\n",
    "    new_df_seller = pd.DataFrame()\n",
    "    \n",
    "    for row in range(0,len(df.index)):\n",
    "        b_sum = 0\n",
    "        s_sum = 0\n",
    "        for col in range (8, 219 ,7):\n",
    "            b_sum +=df.loc[row][col]\n",
    "        new_df_buyer.loc[len(new_df_buyer.index), 0] = b_sum\n",
    "\n",
    "        for col in range (225, 428,7):\n",
    "            s_sum +=df.loc[row][col]\n",
    "        new_df_seller.loc[len(new_df_seller.index), 0] = s_sum\n",
    "      \n",
    "    buyers_sma = new_df_buyer.loc[:,0].rolling(5).mean()\n",
    "    sellers_sma = new_df_seller.loc[:,0].rolling(5).mean()\n",
    "    total_sma =  buyers_sma + sellers_sma\n",
    "    \n",
    "    # Comment out if running compare_pps_different_k() ---------------------------------\n",
    "    t_period = list(range(0,len(buyers_sma.index)))\n",
    "    plt.plot(t_period, buyers_sma, color=CB91_Green, label='Sum Profit') \n",
    "    plt.plot(t_period, sellers_sma, color=CB91_Blue, label='Buyers Profit') \n",
    "    plt.plot(t_period, total_sma, color=CB91_Pink, label='Sellers Profit') \n",
    "    plt.xlabel(\"Hours\")\n",
    "    plt.ylabel(\"Profit Per Second\")\n",
    "    plt.title(\"Profit: PRDE_BEST\")\n",
    "    plt.legend(frameon=False)\n",
    "    plt.grid(linewidth=0.4)\n",
    "    \n",
    "    # save figures\n",
    "    # figure_filename = (f'dynamic_market/figures/change_k/Change_K%02d_F{f_value}.png' % (k_value))\n",
    "    # plt.savefig(figure_filename)\n",
    "    plt.show()\n",
    "\n",
    "    # -------------------------------------------------------------------------------\n",
    "    return total_sma.fillna(0).to_numpy()\n",
    "    # return\n",
    "    \n",
    "# plot_csv('improved_outputs/PRDE_vs_BEST1/trail1_strats.csv')\n",
    "    "
   ]
  },
  {
   "cell_type": "code",
   "execution_count": 57,
   "id": "58fb3786-7eef-48a7-97c1-b1c932c5c2c5",
   "metadata": {},
   "outputs": [
    {
     "data": {
      "image/png": "[encoded data removed]",
      "text/plain": [
       "<Figure size 640x480 with 1 Axes>"
      ]
     },
     "metadata": {},
     "output_type": "display_data"
    },
    {
     "name": "stdout",
     "output_type": "stream",
     "text": [
      "k=8, F=1.9  95.07607949999999\n"
     ]
    }
   ],
   "source": [
    "prde_best_sma = plot_csv('improved_outputs/PRDE_vs_BEST1/alone/trail1_strats.csv')\n",
    "print(\"k=8, F=1.9 \", np.median(prde_best_sma))"
   ]
  }
 ],
 "metadata": {
  "kernelspec": {
   "display_name": "Python 3 (ipykernel)",
   "language": "python",
   "name": "python3"
  },
  "language_info": {
   "codemirror_mode": {
    "name": "ipython",
    "version": 3
   },
   "file_extension": ".py",
   "mimetype": "text/x-python",
   "name": "python",
   "nbconvert_exporter": "python",
   "pygments_lexer": "ipython3",
   "version": "3.9.13"
  },
  "vscode": {
   "interpreter": {
    "hash": "11938c6bc6919ae2720b4d5011047913343b08a43b18698fd82dedb0d4417594"
   }
  }
 },
 "nbformat": 4,
 "nbformat_minor": 5
}
