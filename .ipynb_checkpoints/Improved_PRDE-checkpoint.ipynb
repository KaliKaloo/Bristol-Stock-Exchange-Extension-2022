{
 "cells": [
  {
   "cell_type": "markdown",
   "id": "cd73082f-0b36-4fc1-adef-3e268dfe79d5",
   "metadata": {
    "tags": []
   },
   "source": [
    "### Setup"
   ]
  },
  {
   "cell_type": "code",
   "execution_count": 4,
   "id": "f06598fc-0248-437c-93c0-b4d2f445b4e1",
   "metadata": {},
   "outputs": [],
   "source": [
    "# Initial Setup:\n",
    "# Import all the libraries we need\n",
    "\n",
    "import matplotlib.pyplot as plt\n",
    "# plt.tick_params(left=False, labelleft=False) #remove ticks\n",
    "\n",
    "import numpy as np\n",
    "import csv\n",
    "import math\n",
    "import random\n",
    "from BSE_improved import Trader_PRZI\n",
    "from BSE_improved import market_session\n",
    "import pandas as pd\n",
    "\n",
    "# reload imports\n",
    "%reload_ext autoreload\n",
    "%autoreload 2\n"
   ]
  },
  {
   "cell_type": "markdown",
   "id": "12b63b3f-114b-4aa6-9478-fef2f6094390",
   "metadata": {},
   "source": [
    "There is a fundamental tradeoff between exploring the\n",
    "payoffs from the k alternatives, and exploiting the alternatives\n",
    "that you believe to give good payoffs"
   ]
  },
  {
   "cell_type": "markdown",
   "id": "c91d2b7c-ead5-4659-8907-e4872be63ed1",
   "metadata": {},
   "source": [
    "### de/rand/1 improved"
   ]
  },
  {
   "cell_type": "code",
   "execution_count": null,
   "id": "4840afeb-b625-42c0-806d-715b9aeece51",
   "metadata": {},
   "outputs": [],
   "source": []
  }
 ],
 "metadata": {
  "kernelspec": {
   "display_name": "Python 3 (ipykernel)",
   "language": "python",
   "name": "python3"
  },
  "language_info": {
   "codemirror_mode": {
    "name": "ipython",
    "version": 3
   },
   "file_extension": ".py",
   "mimetype": "text/x-python",
   "name": "python",
   "nbconvert_exporter": "python",
   "pygments_lexer": "ipython3",
   "version": "3.9.13"
  }
 },
 "nbformat": 4,
 "nbformat_minor": 5
}
